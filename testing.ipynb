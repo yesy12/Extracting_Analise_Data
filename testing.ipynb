{
 "cells": [
  {
   "cell_type": "code",
   "execution_count": 240,
   "metadata": {},
   "outputs": [],
   "source": [
    "from package.functions import getIndexsFromMonthCommnets, splitSpecific, addYearDatePublish,split"
   ]
  },
  {
   "cell_type": "code",
   "execution_count": 245,
   "metadata": {},
   "outputs": [],
   "source": [
    "class Commnents:\n",
    "\n",
    "    def __init__(self) -> None:\n",
    "        pass\n",
    "        \n",
    "    def formaterDate(self, comentDate) ->None:\n",
    "        comentDate = splitSpecific(r\"às \\d+:\\d+\", comentDate)[0]\n",
    "        if(len(comentDate) == 13):\n",
    "            comentDate = splitSpecific(r\"/\", comentDate)\n",
    "\n",
    "        elif(len(comentDate) == 11):\n",
    "            comentDate = splitSpecific(\" de \", comentDate)\n",
    "        \n",
    "        comentDate[1] = getIndexsFromMonthCommnets(comentDate[1][0:4])\n",
    "        comentDate[0] = int(comentDate[0])\n",
    "        if len(comentDate) == 3:\n",
    "            comentDate[2] = int(comentDate[2])\n",
    "\n",
    "        comentDate = addYearDatePublish(comentDate)\n",
    "        return f\"{comentDate[0]}-{comentDate[1]}-{comentDate[2]}\"\n",
    "\n",
    "\n",
    "        \n"
   ]
  },
  {
   "cell_type": "code",
   "execution_count": 244,
   "metadata": {},
   "outputs": [],
   "source": [
    "comentarios = [\n",
    "                ['https://steamcommunity.com/wsedg', '29/mai./2023 às 9:08 ', 'meus parabéns e isso ai'],\n",
    "                ['https://steamcommunity.com/reery', '28/mai./2023 às 19:10 ', 'top meu amigo tambem sou pai parabens pela sua atitude boa sorte'],\n",
    "                ['https://steamcommunity.com/etett', '27/mai./2023 às 1:12 ', 'Toda vez a mesma história Kkkkkkkkkkk'],\n",
    "                ['https://steamcommunity.com/eyeey', '23/mai./2023 às 12:38 ', 'E a gente finge que acredita na história kkk'],\n",
    "                ['https://steamcommunity.com/uoyyo', '22/mai./2023 às 20:07 ', 'Meu Deus, chorei mas não foi pelos olhos'],\n",
    "                ['https://steamcommunity.com/57tuu', '29/abr./2023 às 21:36 ', 'a vai pra casa do caraio'],\n",
    "                ['https://steamcommunity.com/tuouo', '26/mar./2023 às 13:36 ', 'Esse copypasta tá sempre pegando uns Ot4r10s nas avaliações da Steam, impressionante kkkkkk'],\n",
    "                ['https://steamcommunity.com/iouhk', '17/mar./2023 às 12:53 ', 'eu sou o tio, desculpe maninho não sabia que o pequeno sayoni iria se viciar desse jeito'],\n",
    "                ['https://steamcommunity.com/5775j', '17/mar./2023 às 1:56 ', 'é verdade, eu sou o filho'],\n",
    "                ['https://steamcommunity.com/89-89', '15 de mar. às 23:12', 'teste'],\n",
    "                ['https://steamcommunity.com/addff', '15 de dez. às 23:12', 'teste']\n",
    "]"
   ]
  },
  {
   "cell_type": "code",
   "execution_count": 246,
   "metadata": {},
   "outputs": [
    {
     "name": "stdout",
     "output_type": "stream",
     "text": [
      "29-5-2023\n",
      "28-5-2023\n",
      "27-5-2023\n",
      "23-5-2023\n",
      "22-5-2023\n",
      "29-4-2023\n",
      "26-3-2023\n",
      "17-3-2023\n",
      "17-3-2023\n",
      "15-3-2024\n",
      "15-12-2024\n"
     ]
    }
   ],
   "source": [
    "for comentario in comentarios:\n",
    "    comment = Commnents()\n",
    "    comentario[1] = comment.formaterDate(comentario[1])\n",
    "    print(comentario[1])"
   ]
  }
 ],
 "metadata": {
  "kernelspec": {
   "display_name": "Python 3",
   "language": "python",
   "name": "python3"
  },
  "language_info": {
   "codemirror_mode": {
    "name": "ipython",
    "version": 3
   },
   "file_extension": ".py",
   "mimetype": "text/x-python",
   "name": "python",
   "nbconvert_exporter": "python",
   "pygments_lexer": "ipython3",
   "version": "3.12.2"
  }
 },
 "nbformat": 4,
 "nbformat_minor": 2
}
