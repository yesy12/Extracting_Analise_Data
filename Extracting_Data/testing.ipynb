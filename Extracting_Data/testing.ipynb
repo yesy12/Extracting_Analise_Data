{
 "cells": [
  {
   "cell_type": "code",
   "execution_count": 93,
   "metadata": {},
   "outputs": [],
   "source": [
    "from selenium import webdriver\n",
    "from selenium.webdriver.support.ui import Select\n",
    "from selenium.webdriver.common.by import By\n",
    "from time import sleep\n",
    "import re\n",
    "driver = webdriver.Edge()"
   ]
  },
  {
   "cell_type": "code",
   "execution_count": 94,
   "metadata": {},
   "outputs": [],
   "source": [
    "link = \"https://store.steampowered.com/app/2420110/Horizon_Forbidden_West__Edio_Completa/\"\n",
    "driver.get(link)"
   ]
  },
  {
   "cell_type": "code",
   "execution_count": 95,
   "metadata": {},
   "outputs": [
    {
     "name": "stdout",
     "output_type": "stream",
     "text": [
      "https://store.steampowered.com/agecheck/app/2420110/\n"
     ]
    }
   ],
   "source": [
    "\n",
    "print(link)"
   ]
  },
  {
   "cell_type": "code",
   "execution_count": 96,
   "metadata": {},
   "outputs": [],
   "source": []
  },
  {
   "cell_type": "code",
   "execution_count": 91,
   "metadata": {},
   "outputs": [],
   "source": [
    "def setMyDateFromGetAllReviews():\n",
    "    ageDay = Select(driver.find_element(By.ID,\"ageDay\"))\n",
    "    ageMonth = Select(driver.find_element(By.ID,\"ageMonth\"))\n",
    "    ageYear = Select(driver.find_element(By.ID,\"ageYear\"))\n",
    "\n",
    "    ageDay.select_by_index(0)\n",
    "    ageMonth.select_by_index(0)\n",
    "    ageYear.select_by_index(0)"
   ]
  },
  {
   "cell_type": "code",
   "execution_count": 90,
   "metadata": {},
   "outputs": [],
   "source": [
    "def accessPage():\n",
    "    accessPage = driver.find_element(By.ID, \"view_product_page_btn\")\n",
    "    accessPage.click()"
   ]
  },
  {
   "cell_type": "code",
   "execution_count": 33,
   "metadata": {},
   "outputs": [],
   "source": [
    "while True:\n",
    "    lastHeight = getScrollHeight()\n",
    "    scroll()\n",
    "    newScrollHeight = getScrollHeight()\n",
    "\n",
    "    if lastHeight == newScrollHeight:\n",
    "        break"
   ]
  },
  {
   "cell_type": "code",
   "execution_count": 36,
   "metadata": {},
   "outputs": [],
   "source": [
    "allReview = driver.find_element(By.CLASS_NAME, \"view_all_reviews_btn\")\n",
    "allReview.click()"
   ]
  },
  {
   "cell_type": "code",
   "execution_count": 18,
   "metadata": {},
   "outputs": [],
   "source": [
    "def getScrollHeight() -> int:\n",
    "    return driver.execute_script(\"return document.body.scrollHeight\")\n",
    "\n",
    "def scroll():\n",
    "    driver.execute_script(f\"window.scrollTo(0,{getScrollHeight()})\")\n",
    "    sleep(2)    "
   ]
  }
 ],
 "metadata": {
  "kernelspec": {
   "display_name": "Python 3",
   "language": "python",
   "name": "python3"
  },
  "language_info": {
   "codemirror_mode": {
    "name": "ipython",
    "version": 3
   },
   "file_extension": ".py",
   "mimetype": "text/x-python",
   "name": "python",
   "nbconvert_exporter": "python",
   "pygments_lexer": "ipython3",
   "version": "3.12.2"
  }
 },
 "nbformat": 4,
 "nbformat_minor": 2
}
