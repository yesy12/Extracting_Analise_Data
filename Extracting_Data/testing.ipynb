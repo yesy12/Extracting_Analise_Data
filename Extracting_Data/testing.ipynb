{
 "cells": [
  {
   "cell_type": "code",
   "execution_count": 29,
   "metadata": {},
   "outputs": [],
   "source": [
    "from selenium import webdriver\n",
    "from selenium.webdriver.common.by import By\n",
    "from time import sleep\n",
    "driver = webdriver.Edge()"
   ]
  },
  {
   "cell_type": "code",
   "execution_count": 32,
   "metadata": {},
   "outputs": [],
   "source": [
    "link = \"https://store.steampowered.com/app/1222680/Need_for_Speed_Heat/\"\n",
    "driver.get(link)"
   ]
  },
  {
   "cell_type": "code",
   "execution_count": 33,
   "metadata": {},
   "outputs": [],
   "source": [
    "while True:\n",
    "    lastHeight = getScrollHeight()\n",
    "    scroll()\n",
    "    newScrollHeight = getScrollHeight()\n",
    "\n",
    "    if lastHeight == newScrollHeight:\n",
    "        break"
   ]
  },
  {
   "cell_type": "code",
   "execution_count": 36,
   "metadata": {},
   "outputs": [],
   "source": [
    "allReview = driver.find_element(By.CLASS_NAME, \"view_all_reviews_btn\")\n",
    "allReview.click()"
   ]
  },
  {
   "cell_type": "code",
   "execution_count": 18,
   "metadata": {},
   "outputs": [],
   "source": [
    "def getScrollHeight() -> int:\n",
    "    return driver.execute_script(\"return document.body.scrollHeight\")\n",
    "\n",
    "def scroll():\n",
    "    driver.execute_script(f\"window.scrollTo(0,{getScrollHeight()})\")\n",
    "    sleep(2)    "
   ]
  }
 ],
 "metadata": {
  "kernelspec": {
   "display_name": "Python 3",
   "language": "python",
   "name": "python3"
  },
  "language_info": {
   "codemirror_mode": {
    "name": "ipython",
    "version": 3
   },
   "file_extension": ".py",
   "mimetype": "text/x-python",
   "name": "python",
   "nbconvert_exporter": "python",
   "pygments_lexer": "ipython3",
   "version": "3.12.2"
  }
 },
 "nbformat": 4,
 "nbformat_minor": 2
}
