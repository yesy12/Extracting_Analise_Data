{
 "cells": [
  {
   "cell_type": "code",
   "execution_count": 1,
   "metadata": {},
   "outputs": [],
   "source": [
    "from package.functions import getIndexsFromMonthCommnets, splitSpecific, addYearDatePublish, subSpecificParams, searchText\n",
    "from package.functions import addMonthDatePublish,addDayDatePublish\n",
    "import re"
   ]
  },
  {
   "cell_type": "code",
   "execution_count": 2,
   "metadata": {},
   "outputs": [
    {
     "name": "stderr",
     "output_type": "stream",
     "text": [
      "<>:8: SyntaxWarning: invalid escape sequence '\\d'\n",
      "<>:8: SyntaxWarning: invalid escape sequence '\\d'\n",
      "C:\\Users\\Alison Power BI\\AppData\\Local\\Temp\\ipykernel_3884\\3827234154.py:8: SyntaxWarning: invalid escape sequence '\\d'\n",
      "  exists = searchText(\"há \\d+ horas\", comentDate)\n"
     ]
    }
   ],
   "source": [
    "class Commnents:\n",
    "\n",
    "    def __init__(self) -> None:\n",
    "        pass\n",
    "        \n",
    "    def formaterDate(self, comentDate):\n",
    "        a = re.search(r\"há \\d+ horas\", comentDate)\n",
    "        exists = searchText(\"há \\d+ horas\", comentDate)\n",
    "        \n",
    "        if a == None:            \n",
    "            comentDate = splitSpecific(r\"às \\d+:\\d+\", comentDate)[0]\n",
    "            if(len(comentDate) == 13):\n",
    "                comentDate = splitSpecific(r\"/\", comentDate)\n",
    "\n",
    "            elif(len(comentDate) == 11):\n",
    "                comentDate = splitSpecific(\" de \", comentDate)\n",
    "                comentDate[1] = comentDate[1][0:4]\n",
    "                        \n",
    "            if type(comentDate) == str:\n",
    "                comentDate = splitSpecific(\"/\", comentDate)        \n",
    "\n",
    "            comentDate[1] = getIndexsFromMonthCommnets(comentDate[1])\n",
    "\n",
    "            if len(comentDate) == 3:\n",
    "                comentDate[2] = int(comentDate[2])\n",
    "            else:\n",
    "                comentDate = addYearDatePublish(comentDate)    \n",
    "\n",
    "        else:\n",
    "            comentDate = []\n",
    "            comentDate.append(addDayDatePublish())\n",
    "            comentDate.append(addMonthDatePublish())\n",
    "            comentDate = addYearDatePublish(comentDate)\n",
    "        \n",
    "        return f\"{comentDate[0]}-{comentDate[1]}-{comentDate[2]}\"\n",
    "\n",
    "    def formaterComment(self, commentText) -> str:\n",
    "        return subSpecificParams(\"'\",\"\",commentText)"
   ]
  },
  {
   "cell_type": "code",
   "execution_count": 3,
   "metadata": {},
   "outputs": [],
   "source": [
    "comentarios = [\n",
    "                ['https://steamcommunity.com/wsedg', '29/mai./2023 às 9:08 ', 'meus parabéns e isso ai'],\n",
    "                ['https://steamcommunity.com/reery', '28/mai./2023 às 19:10 ', 'top meu amigo tambem sou pai parabens pela sua atitude boa sorte'],\n",
    "                ['https://steamcommunity.com/etett', '27/mai./2023 às 1:12 ', 'Toda vez a mesma história Kkkkkkkkkkk'],\n",
    "                ['https://steamcommunity.com/eyeey', '23/mai./2023 às 12:38 ', 'E a gente finge que acredita na história kkk'],\n",
    "                ['https://steamcommunity.com/uoyyo', '22/mai./2023 às 20:07 ', 'Meu Deus, chorei mas não foi pelos olhos'],\n",
    "                ['https://steamcommunity.com/57tuu', '29/abr./2023 às 21:36 ', 'a vai pra casa do caraio'],\n",
    "                ['https://steamcommunity.com/tuouo', '26/mar./2023 às 13:36 ', 'Esse copypasta tá sempre pegando uns Ot4r10s nas avaliações da Steam, impressionante kkkkkk'],\n",
    "                ['https://steamcommunity.com/iouhk', '17/mar./2023 às 12:53 ', 'eu sou o tio, desculpe maninho não sabia que o pequeno sayoni iria se viciar desse jeito'],\n",
    "                ['https://steamcommunity.com/5775j', '17/mar./2023 às 1:56 ', 'é verdade, eu sou o filho'],\n",
    "                ['https://steamcommunity.com/89-89', '15 de mar. às 23:12', 'teste'],\n",
    "                ['https://steamcommunity.com/addff', '15 de dez. às 23:12', 'teste'],\n",
    "                ['https://steamcommunity.com/3twt3', '17 de mar. às 15:12 ', 'Koe mané, cê tá bem?'], \n",
    "                ['https://steamcommunity.com/34w34', '24/fev./2022 às 0:39 ', 'Realidade: ser espancado no online e ficar mais deprimido'], \n",
    "                ['https://steamcommunity.com/gesgg', '1/ago./2021 às 13:34 ', 'quiser me da algum jogo que rode em meu pc'], \n",
    "                ['https://steamcommunity.com/33753', '3/jul./2021 às 17:24 ', 'concordo'],\n",
    "                ['https://steamcommunity.com/qoeep', '22/jun./2021 às 19:46 ', 'NOSSA!!! Vc precisa de mais amor próprio, amigo kkkkkkkkk'], \n",
    "                ['https://steamcommunity.com/abcbc', '21/jun./2021 às 15:14 ', \"I'm14andthisisdeep\"], \n",
    "                ['https://steamcommunity.com/wbcxj', '20/jun./2021 às 19:56 ', 'carai parsa'],\n",
    "                ['','há 2 horas', '2r8rfjwsf'],\n",
    "                ['','há 3 horas', '2r8rfjwsf'],\n",
    "                ['','há 5 horas', '2r8rfjwsf'],\n",
    "                ['','há 6 horas', '2r8rfjwsf'],\n",
    "                ['','há 7 horas', '2r8rfjwsf'],\n",
    "                ['','há 8 horas', '2r8rfjwsf'],\n",
    "                ['','há 9 horas', '2r8rfjwsf'],\n",
    "]"
   ]
  },
  {
   "cell_type": "code",
   "execution_count": 4,
   "metadata": {},
   "outputs": [
    {
     "name": "stdout",
     "output_type": "stream",
     "text": [
      "Date: [24, 3, 2024]\n",
      "Date: [24, 3, 2024]\n",
      "Date: [24, 3, 2024]\n",
      "Date: [24, 3, 2024]\n",
      "Date: [24, 3, 2024]\n",
      "Date: [24, 3, 2024]\n",
      "Date: [24, 3, 2024]\n"
     ]
    }
   ],
   "source": [
    "for comentario in comentarios:\n",
    "    comment = Commnents()\n",
    "    comentario[1] = comment.formaterDate(comentario[1])\n",
    "    # print(comentario[1])"
   ]
  }
 ],
 "metadata": {
  "kernelspec": {
   "display_name": "Python 3",
   "language": "python",
   "name": "python3"
  },
  "language_info": {
   "codemirror_mode": {
    "name": "ipython",
    "version": 3
   },
   "file_extension": ".py",
   "mimetype": "text/x-python",
   "name": "python",
   "nbconvert_exporter": "python",
   "pygments_lexer": "ipython3",
   "version": "3.12.2"
  }
 },
 "nbformat": 4,
 "nbformat_minor": 2
}
